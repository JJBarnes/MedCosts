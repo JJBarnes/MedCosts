{
 "cells": [
  {
   "cell_type": "markdown",
   "metadata": {},
   "source": [
    "# U.S. Medical Insurance Costs"
   ]
  },
  {
   "cell_type": "markdown",
   "metadata": {},
   "source": [
    "### Initial Thoughts\n",
    "The Data is organised in CSV file, with the headings: Age, Sex, BMI, Children, Smoker, Region, Charges\n",
    "The Dataset is clean - No missing data, no noticeable typos. 4 numerical variables, 3 categorical. Each variable represents one charateristic and each characteristic appears once\n"
   ]
  },
  {
   "cell_type": "markdown",
   "metadata": {},
   "source": [
    "### Scope\n",
    "\n",
    "1. Average characteristics of people in the dataset (Average Age, Mode location, Average Age of those who have children)\n",
    "2. May want to investigate what influences the cost of insurance\n",
    "3. The relationship between smoking and BMI (Average BMI of smokers vs Average BMI of non-smokers)\n",
    "4. Relationship between sex and BMI (Average BMI of Men vs Average BMI of women)"
   ]
  },
  {
   "cell_type": "code",
   "execution_count": 37,
   "metadata": {},
   "outputs": [],
   "source": [
    "#Import modules\n",
    "import csv"
   ]
  },
  {
   "cell_type": "code",
   "execution_count": 96,
   "metadata": {},
   "outputs": [
    {
     "name": "stdout",
     "output_type": "stream",
     "text": [
      "39.20702541106129\n"
     ]
    }
   ],
   "source": [
    "### TO USE NUMPY IF REQUIRED\n",
    "###np_age_list = np.asarray(age_list).astype(float)\n",
    "###print(np.mean(np_age_list))"
   ]
  },
  {
   "cell_type": "code",
   "execution_count": 135,
   "metadata": {},
   "outputs": [],
   "source": [
    "with open(r\"C:\\Users\\Josh\\Documents\\Projects\\US Medical Costs\\insurance.csv\", newline = '') as CSVfile:\n",
    "    writer = csv.DictReader(CSVfile)\n",
    "    age_list = []\n",
    "    sex_list = []\n",
    "    bmi_list = []\n",
    "    children_list = []\n",
    "    smoker_list = []\n",
    "    region_list = []\n",
    "    charges_list = []\n",
    "    for row in writer:\n",
    "        age_list.append(row[\"age\"])\n",
    "        sex_list.append(row[\"sex\"])\n",
    "        bmi_list.append(row[\"bmi\"])\n",
    "        children_list.append(row[\"children\"])\n",
    "        smoker_list.append(row[\"smoker\"])\n",
    "        region_list.append(row[\"region\"])\n",
    "        charges_list.append(row[\"charges\"])\n",
    "   "
   ]
  },
  {
   "cell_type": "markdown",
   "metadata": {},
   "source": [
    "### Exploring the Dataset"
   ]
  },
  {
   "cell_type": "code",
   "execution_count": 112,
   "metadata": {},
   "outputs": [
    {
     "name": "stdout",
     "output_type": "stream",
     "text": [
      "There are 1338 people in this dataset.\n"
     ]
    }
   ],
   "source": [
    "#Number of People\n",
    "num_people = len(age_list)\n",
    "print(\"There are {people} people in this dataset.\".format(people = num_people))"
   ]
  },
  {
   "cell_type": "code",
   "execution_count": 156,
   "metadata": {},
   "outputs": [
    {
     "name": "stdout",
     "output_type": "stream",
     "text": [
      "The average age of people in this dataset is 39.21 years old.\n",
      "The youngest person is 18 years old.\n",
      "The oldest person is 64 years old.\n"
     ]
    }
   ],
   "source": [
    "# Average Age\n",
    "total_age = 0.0\n",
    "minimum_age = 100000000\n",
    "maximum_age = 0\n",
    "age_list = [int(age) for age in age_list]\n",
    "for age in age_list:\n",
    "    total_age += float(age)\n",
    "    if age>maximum_age:\n",
    "        maximum_age = age\n",
    "    if age < minimum_age:\n",
    "        minimum_age = age\n",
    "avg_age = total_age/num_people\n",
    "print(\"The average age of people in this dataset is {age} years old.\".format(age=round(avg_age,2)))\n",
    "print(\"The youngest person is {min} years old.\".format(min=minimum_age))\n",
    "print(\"The oldest person is {max} years old.\".format(max = maximum_age))"
   ]
  },
  {
   "cell_type": "code",
   "execution_count": 102,
   "metadata": {},
   "outputs": [
    {
     "name": "stdout",
     "output_type": "stream",
     "text": [
      "The most common location of people in this dataset is the Southeast, with 364 people.\n"
     ]
    }
   ],
   "source": [
    "#Most common location\n",
    "unique_locations = {}\n",
    "for location in region_list:\n",
    "    if location not in unique_locations:\n",
    "        unique_locations[location] = 1\n",
    "    else:\n",
    "        unique_locations[location] +=1\n",
    "ranked_locations = sorted([(value, key.title()) for key,value in unique_locations.items()], reverse=True)\n",
    "\n",
    "print(\"The most common location of people in this dataset is the {location}, with {people} people.\".format(location = ranked_locations[0][-1], people = ranked_locations[0][0]))"
   ]
  },
  {
   "cell_type": "code",
   "execution_count": 159,
   "metadata": {},
   "outputs": [
    {
     "name": "stdout",
     "output_type": "stream",
     "text": [
      "The average BMI of people in this dataset is 30.66.\n",
      "The lowest BMI of a person in this dataset is 15.96.\n",
      "The highest BMI of a person in this dataset is 53.13.\n"
     ]
    }
   ],
   "source": [
    "#Average BMI\n",
    "total_bmi = 0.0\n",
    "max_bmi = 0.0\n",
    "min_bmi = 1000000000\n",
    "bmi_list = [float(bmi) for bmi in bmi_list]\n",
    "for bmi in bmi_list:\n",
    "    total_bmi += bmi\n",
    "    if bmi>max_bmi:\n",
    "        max_bmi = bmi\n",
    "    if bmi<min_bmi:\n",
    "        min_bmi = bmi\n",
    "avg_bmi = total_bmi/num_people\n",
    "print(\"The average BMI of people in this dataset is {bmi}.\".format(bmi = round(avg_bmi, 2)))\n",
    "print(\"The lowest BMI of a person in this dataset is {bmi}.\".format(bmi = min_bmi))\n",
    "print(\"The highest BMI of a person in this dataset is {bmi}.\".format(bmi=max_bmi))"
   ]
  },
  {
   "cell_type": "code",
   "execution_count": 114,
   "metadata": {},
   "outputs": [
    {
     "name": "stdout",
     "output_type": "stream",
     "text": [
      "There are 274 smokers (20.48%) and 1064 non-smokers (79.52%) in this dataset.\n"
     ]
    }
   ],
   "source": [
    "#Number of smokers\n",
    "num_smokers = 0\n",
    "for smoker in smoker_list:\n",
    "    if smoker ==\"yes\":\n",
    "        num_smokers +=1\n",
    "num_non_smokers = num_people - num_smokers\n",
    "perc_smokers = round(num_smokers/num_people * 100, 2)\n",
    "perc_non_smokers = round(num_non_smokers/num_people * 100, 2)\n",
    "print(\"There are {smokers} smokers ({smoker_perc}%) and {non_smokers} non-smokers ({non_perc}%) in this dataset.\".format(smokers = num_smokers, non_smokers = num_non_smokers, smoker_perc = perc_smokers, non_perc = perc_non_smokers))"
   ]
  },
  {
   "cell_type": "code",
   "execution_count": 256,
   "metadata": {},
   "outputs": [
    {
     "name": "stdout",
     "output_type": "stream",
     "text": [
      "Each person has an average of 1.09 children.\n",
      "Frequency of different numbers of children: {0: 574, 1: 324, 2: 240, 3: 157, 4: 25, 5: 18}\n"
     ]
    }
   ],
   "source": [
    "# Number of children per person\n",
    "total_children = 0\n",
    "max_children = 0\n",
    "num_children = {}\n",
    "children_list = [int(children) for children in children_list]\n",
    "for children in sorted(children_list):\n",
    "    total_children += int(children)\n",
    "    if children not in num_children:\n",
    "        num_children[children] = 1\n",
    "    else:\n",
    "        num_children[children] += 1\n",
    "\n",
    "#num_children = sorted([(key, value) for key, value in num_children.items()])\n",
    "print(\"Each person has an average of {children} children.\".format(children = round(total_children/num_people, 2)))\n",
    "print(\"Frequency of different numbers of children: {children}\".format(children=num_children))\n",
    "\n"
   ]
  },
  {
   "cell_type": "code",
   "execution_count": 115,
   "metadata": {},
   "outputs": [
    {
     "name": "stdout",
     "output_type": "stream",
     "text": [
      "There are 676 males (50.52%) and 662 females (49.48%) in this dataset.\n"
     ]
    }
   ],
   "source": [
    "#Proportions of males to females\n",
    "num_male = 0\n",
    "num_female = 0\n",
    "for sex in sex_list:\n",
    "    if sex == \"male\":\n",
    "        num_male+=1\n",
    "    else:\n",
    "        num_female +=1\n",
    "perc_men = round(num_male/num_people * 100,2)\n",
    "perc_women = round(num_female/num_people * 100,2)\n",
    "print(\"There are {men} males ({mPerc}%) and {females} females ({fPerc}%) in this dataset.\".format(men=num_male, females=num_female, mPerc = perc_men, fPerc = perc_women))"
   ]
  },
  {
   "cell_type": "code",
   "execution_count": 164,
   "metadata": {},
   "outputs": [
    {
     "name": "stdout",
     "output_type": "stream",
     "text": [
      "The average insurance cost is $13270.42 per person.\n",
      "The lowest insurance cost is $1121.87.\n",
      "The highest insurance cost is $63770.43.\n"
     ]
    }
   ],
   "source": [
    "#Average insurance cost\n",
    "total_cost = 0.0\n",
    "charges_list = [float(charge) for charge in charges_list]\n",
    "max_charge = 0\n",
    "min_charge = 1e20\n",
    "for cost in charges_list:\n",
    "    total_cost += cost\n",
    "    if cost > max_charge:\n",
    "        max_charge = cost\n",
    "    if cost < min_charge:\n",
    "        min_charge = cost\n",
    "avg_cost = round(total_cost/num_people, 2)\n",
    "print(\"The average insurance cost is ${cost} per person.\".format(cost = avg_cost))\n",
    "print(\"The lowest insurance cost is ${cost}.\".format(cost = round(min_charge, 2)))\n",
    "print(\"The highest insurance cost is ${cost}.\".format(cost = round(max_charge, 2)))"
   ]
  },
  {
   "cell_type": "code",
   "execution_count": 170,
   "metadata": {},
   "outputs": [
    {
     "name": "stdout",
     "output_type": "stream",
     "text": [
      "The average insurance cost for someone in their 10's is $8407.35.\n",
      "The average insurance cost for someone in their 20's is $9561.75.\n",
      "The average insurance cost for someone in their 30's is $11738.78.\n",
      "The average insurance cost for someone in their 40's is $14399.2.\n",
      "The average insurance cost for someone in their 50's is $16495.23.\n",
      "The average insurance cost for someone in their 60's is $21248.02.\n"
     ]
    }
   ],
   "source": [
    "#Different Ages\n",
    "tens_charges = []\n",
    "twenties_charges = []\n",
    "thirties_charges = []\n",
    "fourties_charges = []\n",
    "fifties_charges = []\n",
    "sixties_charges = []\n",
    "tens_total = 0.0\n",
    "twenties_total = 0.0\n",
    "thirties_total = 0.0\n",
    "fourties_total = 0.0\n",
    "fifties_total = 0.0\n",
    "sixties_total = 0.0\n",
    "\n",
    "for index in range(num_people):\n",
    "    age = age_list[index]\n",
    "    cost = charges_list[index]\n",
    "    if age >=10 and age < 20:\n",
    "        tens_charges.append(cost)\n",
    "        tens_total+=cost\n",
    "    elif age >=20 and age <30:\n",
    "        twenties_charges.append(cost)\n",
    "        twenties_total+=cost\n",
    "    elif age >=30 and age<40:\n",
    "        thirties_charges.append(cost)\n",
    "        thirties_total+=cost\n",
    "    elif age >=40 and age < 50:\n",
    "        fourties_charges.append(cost)\n",
    "        fourties_total+=cost\n",
    "    elif age >=50 and age <60:\n",
    "        fifties_charges.append(cost)\n",
    "        fifties_total +=cost\n",
    "    elif age>=60 and age < 70:\n",
    "        sixties_charges.append(cost)\n",
    "        sixties_total+=cost\n",
    "    else:\n",
    "        print(\"Error with a person aged {}\".format(age))\n",
    "tens_average = round(tens_total/len(tens_charges), 2)\n",
    "twenties_average = round(twenties_total/len(twenties_charges), 2)\n",
    "thirties_average = round(thirties_total/len(thirties_charges), 2)\n",
    "fourties_average = round(fourties_total/len(fourties_charges), 2)\n",
    "fifties_average = round(fifties_total/len(fifties_charges), 2)\n",
    "sixties_average = round(sixties_total/len(sixties_charges), 2)\n",
    "print(\"The average insurance cost for someone in their 10's is ${}.\".format(tens_average))\n",
    "print(\"The average insurance cost for someone in their 20's is ${}.\".format(twenties_average))\n",
    "print(\"The average insurance cost for someone in their 30's is ${}.\".format(thirties_average))\n",
    "print(\"The average insurance cost for someone in their 40's is ${}.\".format(fourties_average))\n",
    "print(\"The average insurance cost for someone in their 50's is ${}.\".format(fifties_average))\n",
    "print(\"The average insurance cost for someone in their 60's is ${}.\".format(sixties_average))"
   ]
  },
  {
   "cell_type": "markdown",
   "metadata": {},
   "source": [
    "So we can see that insurance cost increases with age, as we would expect."
   ]
  },
  {
   "cell_type": "code",
   "execution_count": 173,
   "metadata": {},
   "outputs": [
    {
     "name": "stdout",
     "output_type": "stream",
     "text": [
      "The average insurance cost for a male is $13956.75.\n",
      "The average insurance cost for a female is $12569.58.\n"
     ]
    }
   ],
   "source": [
    "male_charges = []\n",
    "male_total = 0.0\n",
    "female_charges = []\n",
    "female_total = 0.0\n",
    "for index in range(num_people):\n",
    "    sex = sex_list[index]\n",
    "    cost = charges_list[index]\n",
    "    if sex == \"male\":\n",
    "        male_charges.append(cost)\n",
    "        male_total+=cost\n",
    "    elif sex == \"female\":\n",
    "        female_charges.append(cost)\n",
    "        female_total+=cost\n",
    "    else:\n",
    "        print(\"Error with index {}: sex is {}.\".format(index, sex))\n",
    "avg_male = round(male_total/len(male_charges), 2)\n",
    "avg_female = round(female_total/len(female_charges), 2)\n",
    "print(\"The average insurance cost for a male is ${}.\".format(avg_male))\n",
    "print(\"The average insurance cost for a female is ${}.\".format(avg_female))"
   ]
  },
  {
   "cell_type": "markdown",
   "metadata": {},
   "source": [
    "Females have a lower average insurance cost than men! Could this be causal, or are there other variables at work?\n",
    "Do men have a higher bmi? More children? Smoke more? Are they older? Live in different regions?"
   ]
  },
  {
   "cell_type": "code",
   "execution_count": 246,
   "metadata": {},
   "outputs": [
    {
     "name": "stdout",
     "output_type": "stream",
     "text": [
      "Average BMI for males is 30.94 and for females is 30.38.\n",
      "Average age for males is 38.92 and for females is 39.5.\n",
      "Average number of children for males is 1.12 and for females is 1.07.\n",
      "Location, number, and percentage for males: [('Southwest', 163, '24.11%'), ('Southeast', 189, '27.96%'), ('Northwest', 161, '23.82%'), ('Northeast', 163, '24.11%')]\n",
      "Location, number, and percentage for females: [('Southwest', 162, '24.47%'), ('Southeast', 175, '26.44%'), ('Northwest', 164, '24.77%'), ('Northeast', 161, '24.32%')]\n",
      "23.52% of males smoke and 17.37% of females smoke.\n"
     ]
    }
   ],
   "source": [
    "male_bmi = []\n",
    "male_bmi_tot = 0.0\n",
    "female_bmi = []\n",
    "female_bmi_tot = 0.0\n",
    "male_kids = []\n",
    "male_kids_tot = 0.0\n",
    "female_kids = []\n",
    "female_kids_tot = 0.0\n",
    "male_smokers_costs = 0.0\n",
    "male_smokers = 0\n",
    "male_nonsmoker_cost = 0.0\n",
    "female_smokers_costs= 0.0\n",
    "female_smokers = 0\n",
    "female_nonsmoker_cost = 0.0\n",
    "male_age = []\n",
    "male_age_tot = 0.0\n",
    "female_age = []\n",
    "female_age_tot = 0.0\n",
    "male_region = []\n",
    "female_region = []\n",
    "n=0\n",
    "m=0\n",
    "for index in range(num_people):\n",
    "    sex = sex_list[index]\n",
    "    region = region_list[index]\n",
    "    bmi = bmi_list[index]\n",
    "    children = children_list[index]\n",
    "    age = age_list[index]\n",
    "    smoker = smoker_list[index]\n",
    "    if sex == 'male':\n",
    "        male_bmi.append(bmi)\n",
    "        male_kids.append(children)\n",
    "        male_age.append(age)\n",
    "        male_region.append(region)\n",
    "        male_age_tot+=age\n",
    "        male_kids_tot+=children\n",
    "        male_bmi_tot +=bmi\n",
    "        if smoker == 'yes':\n",
    "            male_smokers +=1\n",
    "            male_smokers_costs += cost\n",
    "            n+=1\n",
    "        elif smoker == 'no':\n",
    "            male_nonsmoker_cost += cost\n",
    "            m+=1\n",
    "    elif sex == 'female':\n",
    "        female_bmi.append(bmi)\n",
    "        female_kids.append(children)\n",
    "        female_age.append(age)\n",
    "        female_region.append(region)\n",
    "        female_age_tot+=age\n",
    "        female_kids_tot+=children\n",
    "        female_bmi_tot +=bmi\n",
    "        if smoker == 'yes':\n",
    "            female_smokers +=1\n",
    "            female_smokers_costs += cost\n",
    "        elif smoker == 'no':\n",
    "            female_nonsmoker_cost += cost\n",
    "    else:\n",
    "        print(\"Issue occurred at index {}.\".format(index))\n",
    "\n",
    "avg_bmi_m = round(male_bmi_tot/num_male, 2)\n",
    "avg_age_m = round(male_age_tot/num_male, 2)\n",
    "avg_children_m = round(male_kids_tot/num_male, 2)\n",
    "avg_bmi_f = round(female_bmi_tot/num_female, 2)\n",
    "avg_age_f = round(female_age_tot/num_female, 2)\n",
    "avg_children_f = round(female_kids_tot/num_female, 2)\n",
    "\n",
    "unique_locations_males = {}\n",
    "unique_locations_females = {}\n",
    "\n",
    "for location in male_region:\n",
    "    if location not in unique_locations_males:\n",
    "        unique_locations_males[location] = 1\n",
    "    else:\n",
    "        unique_locations_males[location] +=1\n",
    "\n",
    "for location in female_region:\n",
    "    if location not in unique_locations_females:\n",
    "        unique_locations_females[location] = 1\n",
    "    else:\n",
    "        unique_locations_females[location] +=1\n",
    "\n",
    "print(\"Average BMI for males is {male} and for females is {females}.\".format(male = avg_bmi_m, females = avg_bmi_f))\n",
    "print(\"Average age for males is {male} and for females is {females}.\".format(male = avg_age_m, females = avg_age_f))\n",
    "print(\"Average number of children for males is {male} and for females is {females}.\".format(male = avg_children_m, females = avg_children_f))\n",
    "locations = unique_locations.keys()\n",
    "location_males = []\n",
    "\n",
    "\n",
    "for locations in unique_locations:\n",
    "    location_males.append((locations.title(), unique_locations_males[locations], str(round(unique_locations_males[locations]/num_male*100, 2))+'%'))\n",
    "\n",
    "location_females = []\n",
    "for locations in unique_locations:\n",
    "    location_females.append((locations.title(), unique_locations_females[locations], str(round(unique_locations_females[locations]/num_female*100, 2))+'%'))\n",
    "\n",
    "print(\"Location, number, and percentage for males: {}\".format(location_males))\n",
    "print(\"Location, number, and percentage for females: {}\".format(location_females))\n",
    "\n",
    "pc_smokers_m = round(male_smokers / num_male * 100, 2) \n",
    "pc_smokers_f = round(female_smokers / num_female * 100, 2)\n",
    "print(\"{}% of males smoke and {}% of females smoke.\".format(pc_smokers_m, pc_smokers_f))"
   ]
  },
  {
   "cell_type": "markdown",
   "metadata": {},
   "source": [
    "Therefore the difference may be that more males smoke than females!"
   ]
  },
  {
   "cell_type": "code",
   "execution_count": 255,
   "metadata": {},
   "outputs": [
    {
     "name": "stdout",
     "output_type": "stream",
     "text": [
      "The average insurance cost is $32050.23 for a smoker and $8434.27 for a non-smoker.\n",
      "The average cost is $33042.01 for a male smoker and $8087.2 for a male non-smoker.\n",
      "The average cost is $30679.0 for a female smoker and $8762.3 for a female non-smoker.\n"
     ]
    }
   ],
   "source": [
    "smoker_total = 0.0\n",
    "nonsmoker_total = 0.0\n",
    "m_smoker_total = 0.0\n",
    "f_smoker_total = 0.0\n",
    "m_smokers = 0\n",
    "f_smokers = 0\n",
    "m_nonsmoker_total = 0.0\n",
    "f_nonsmoker_total = 0.0\n",
    "m_nonsmokers = 0\n",
    "f_nonsmokers = 0\n",
    "for index in range(num_people):\n",
    "    smoker = smoker_list[index]\n",
    "    cost = charges_list[index]\n",
    "    sex = sex_list[index]\n",
    "    if smoker =='yes':\n",
    "        smoker_total += cost\n",
    "        if sex=='male':\n",
    "            m_smoker_total+=cost\n",
    "            m_smokers +=1\n",
    "        elif sex =='female':\n",
    "            f_smoker_total += cost\n",
    "            f_smokers +=1\n",
    "    elif smoker == 'no':\n",
    "        nonsmoker_total+=cost\n",
    "        if sex=='male':\n",
    "            m_nonsmoker_total += cost\n",
    "            m_nonsmokers+=1\n",
    "        elif sex == 'female':\n",
    "            f_nonsmoker_total+=cost\n",
    "            f_nonsmokers+=1\n",
    "    else:\n",
    "        print(\"Issue arised at index {}.\".format(index))\n",
    "avg_smoker_cost = round(smoker_total/num_smokers, 2)\n",
    "avg_nonsmoker_cost = round(nonsmoker_total/num_non_smokers, 2)\n",
    "avg_m_smoker_cost = round(m_smoker_total/m_smokers, 2)\n",
    "avg_f_smoker_cost = round(f_smoker_total/f_smokers, 2)\n",
    "avg_m_nonsmoker_cost = round(m_nonsmoker_total/m_nonsmokers, 2)\n",
    "avg_f_nonsmoker_cost = round(f_nonsmoker_total/f_nonsmokers, 2)\n",
    "print(\"The average insurance cost is ${} for a smoker and ${} for a non-smoker.\".format(avg_smoker_cost, avg_nonsmoker_cost))\n",
    "print(\"The average cost is ${} for a male smoker and ${} for a male non-smoker.\".format(avg_m_smoker_cost, avg_m_nonsmoker_cost))\n",
    "print(\"The average cost is ${} for a female smoker and ${} for a female non-smoker.\".format(avg_f_smoker_cost, avg_f_nonsmoker_cost))"
   ]
  },
  {
   "cell_type": "markdown",
   "metadata": {},
   "source": [
    "Smoking appears to lead to a massive increase in insurance costs for males and females alike - but while the average cost for a male smoker is higher than the average for a female smoker, the average for a male non-smoker is lower than for an a female non-smoker!"
   ]
  },
  {
   "cell_type": "markdown",
   "metadata": {},
   "source": [
    "### Investigating smokers"
   ]
  },
  {
   "cell_type": "code",
   "execution_count": 260,
   "metadata": {},
   "outputs": [
    {
     "name": "stdout",
     "output_type": "stream",
     "text": [
      "The average BMI is 30.71 for a smoker and 30.65 for a non-smoker.\n",
      "The average age of smokers is 38.51 and of 39 for non-smokers.\n"
     ]
    }
   ],
   "source": [
    "bmi_smoker = 0.0\n",
    "bmi_nonsmoker = 0.0\n",
    "age_smoker = 0.0\n",
    "age_nonsmoker = 0.0\n",
    "for index in range(num_people):\n",
    "    smoker = smoker_list[index]\n",
    "    bmi = bmi_list[index]\n",
    "    age = age_list[index]\n",
    "    if smoker=='yes':\n",
    "        bmi_smoker+=bmi\n",
    "        age_smoker += age\n",
    "    elif smoker == 'no':\n",
    "        bmi_nonsmoker += bmi\n",
    "        age_nonsmoker += age\n",
    "    else:\n",
    "        print(\"Error on index {}.\".format(index))\n",
    "avg_smoker_bmi = round(bmi_smoker/num_smokers, 2)\n",
    "avg_nonsmoker_bmi = round(bmi_nonsmoker/num_non_smokers, 2)\n",
    "\n",
    "avg_smoker_age = round(age_smoker/num_smokers, 2)\n",
    "avg_nonsmoker_age = round(age_nonsmoker/num_non_smokers)\n",
    "print(\"The average BMI is {} for a smoker and {} for a non-smoker.\".format(avg_smoker_bmi, avg_nonsmoker_bmi))\n",
    "print(\"The average age of smokers is {} and of {} for non-smokers.\".format(avg_smoker_age, avg_nonsmoker_age))"
   ]
  },
  {
   "cell_type": "markdown",
   "metadata": {},
   "source": [
    "No big difference!"
   ]
  }
 ],
 "metadata": {
  "kernelspec": {
   "display_name": "Python 3",
   "language": "python",
   "name": "python3"
  },
  "language_info": {
   "codemirror_mode": {
    "name": "ipython",
    "version": 3
   },
   "file_extension": ".py",
   "mimetype": "text/x-python",
   "name": "python",
   "nbconvert_exporter": "python",
   "pygments_lexer": "ipython3",
   "version": "3.8.8"
  }
 },
 "nbformat": 4,
 "nbformat_minor": 4
}
